{
 "cells": [
  {
   "cell_type": "code",
   "execution_count": 39,
   "metadata": {},
   "outputs": [],
   "source": [
    "import pandas.util.testing as tm\n",
    "import pandas as pd\n",
    "import numpy as np\n",
    "import matplotlib.pyplot as plt\n",
    "import seaborn as sns\n",
    "import json\n",
    "import os\n",
    "\n",
    "from sklearn.neighbors import KNeighborsClassifier\n",
    "from sklearn.tree import DecisionTreeClassifier\n",
    "from sklearn.ensemble import RandomForestClassifier\n",
    "from sklearn.linear_model import LogisticRegression\n",
    "from sklearn.model_selection import train_test_split\n",
    "from sklearn.model_selection import GridSearchCV\n",
    "from sklearn.feature_selection import SelectFromModel\n",
    "from sklearn.metrics import classification_report\n",
    "from sklearn.metrics import confusion_matrix\n",
    "from sklearn.metrics import accuracy_score\n",
    "from sklearn.metrics import roc_curve, auc\n",
    "import folium\n",
    "from folium.plugins import HeatMap"
   ]
  },
  {
   "cell_type": "code",
   "execution_count": null,
   "metadata": {},
   "outputs": [],
   "source": []
  },
  {
   "cell_type": "code",
   "execution_count": 45,
   "metadata": {},
   "outputs": [],
   "source": [
    "df = pd.read_csv('US_accident_cleaned')\n",
    "state='GA'\n",
    "\n",
    "df_ga=df.loc[df.State==state].copy()\n",
    "df_ga.drop('State',axis=1, inplace=True)"
   ]
  },
  {
   "cell_type": "code",
   "execution_count": 46,
   "metadata": {},
   "outputs": [
    {
     "name": "stdout",
     "output_type": "stream",
     "text": [
      "<class 'pandas.core.frame.DataFrame'>\n",
      "Int64Index: 62277 entries, 141801 to 2180192\n",
      "Data columns (total 8 columns):\n",
      "TMC               62277 non-null float64\n",
      "Severity          62277 non-null float64\n",
      "Start_Lng         62277 non-null float64\n",
      "Start_Lat         62277 non-null float64\n",
      "Distance(mi)      62277 non-null float64\n",
      "Temperature(F)    62277 non-null float64\n",
      "Humidity(%)       62277 non-null float64\n",
      "Visibility(mi)    62277 non-null float64\n",
      "dtypes: float64(8)\n",
      "memory usage: 4.3 MB\n"
     ]
    }
   ],
   "source": [
    "feature_lst=['TMC','Severity','Start_Lng','Start_Lat','Distance(mi)','Temperature(F)','Humidity(%)','Visibility(mi)']\n",
    "df_sel=df_ga[feature_lst].copy()\n",
    "df_sel.to_csv('./df_sel.csv',index=False)\n",
    "df_sel.info()"
   ]
  },
  {
   "cell_type": "code",
   "execution_count": 47,
   "metadata": {},
   "outputs": [],
   "source": [
    "target='Severity'\n",
    "\n",
    "y = df_sel[target]\n",
    "X = df_sel.drop(target, axis=1)\n",
    "\n",
    "X_train, X_test, y_train, y_test = train_test_split(X, y, test_size=0.2, random_state=21, stratify=y)"
   ]
  },
  {
   "cell_type": "code",
   "execution_count": 48,
   "metadata": {},
   "outputs": [
    {
     "name": "stdout",
     "output_type": "stream",
     "text": [
      "[Randon forest algorithm] accuracy_score: 0.867.\n"
     ]
    }
   ],
   "source": [
    "# Random Forest algorithm\n",
    "\n",
    "#Create a Gaussian Classifier\n",
    "clf=RandomForestClassifier(n_estimators=100)\n",
    "\n",
    "#Train the model using the training sets y_pred=clf.predict(X_test)\n",
    "clf.fit(X_train,y_train)\n",
    "\n",
    "y_pred=clf.predict(X_test)\n",
    "\n",
    "# Get the accuracy score\n",
    "acc=accuracy_score(y_test, y_pred)\n",
    "\n",
    "\n",
    "# Model Accuracy, how often is the classifier correct?\n",
    "print(\"[Randon forest algorithm] accuracy_score: {:.3f}.\".format(acc))"
   ]
  },
  {
   "cell_type": "code",
   "execution_count": 49,
   "metadata": {},
   "outputs": [
    {
     "name": "stdout",
     "output_type": "stream",
     "text": [
      "[3. 3. 2. ... 3. 2. 2.]\n",
      "(12456,)\n",
      "(12456, 7)\n"
     ]
    }
   ],
   "source": [
    "print(y_pred)\n",
    "print(y_pred.shape)\n",
    "# print(X_test)\n",
    "print(X_test.shape)"
   ]
  },
  {
   "cell_type": "code",
   "execution_count": 50,
   "metadata": {},
   "outputs": [
    {
     "data": {
      "text/html": [
       "<div>\n",
       "<style scoped>\n",
       "    .dataframe tbody tr th:only-of-type {\n",
       "        vertical-align: middle;\n",
       "    }\n",
       "\n",
       "    .dataframe tbody tr th {\n",
       "        vertical-align: top;\n",
       "    }\n",
       "\n",
       "    .dataframe thead th {\n",
       "        text-align: right;\n",
       "    }\n",
       "</style>\n",
       "<table border=\"1\" class=\"dataframe\">\n",
       "  <thead>\n",
       "    <tr style=\"text-align: right;\">\n",
       "      <th></th>\n",
       "      <th>TMC</th>\n",
       "      <th>Start_Lng</th>\n",
       "      <th>Start_Lat</th>\n",
       "      <th>Distance(mi)</th>\n",
       "      <th>Temperature(F)</th>\n",
       "      <th>Humidity(%)</th>\n",
       "      <th>Visibility(mi)</th>\n",
       "    </tr>\n",
       "  </thead>\n",
       "  <tbody>\n",
       "    <tr>\n",
       "      <th>154287</th>\n",
       "      <td>201.0</td>\n",
       "      <td>-84.462776</td>\n",
       "      <td>33.889336</td>\n",
       "      <td>0.00</td>\n",
       "      <td>73.0</td>\n",
       "      <td>87.0</td>\n",
       "      <td>10.0</td>\n",
       "    </tr>\n",
       "    <tr>\n",
       "      <th>144077</th>\n",
       "      <td>201.0</td>\n",
       "      <td>-84.378700</td>\n",
       "      <td>33.754379</td>\n",
       "      <td>0.01</td>\n",
       "      <td>30.0</td>\n",
       "      <td>82.0</td>\n",
       "      <td>10.0</td>\n",
       "    </tr>\n",
       "    <tr>\n",
       "      <th>1075349</th>\n",
       "      <td>201.0</td>\n",
       "      <td>-84.367554</td>\n",
       "      <td>33.820381</td>\n",
       "      <td>0.00</td>\n",
       "      <td>50.0</td>\n",
       "      <td>66.0</td>\n",
       "      <td>10.0</td>\n",
       "    </tr>\n",
       "    <tr>\n",
       "      <th>749764</th>\n",
       "      <td>201.0</td>\n",
       "      <td>-82.047447</td>\n",
       "      <td>33.260040</td>\n",
       "      <td>0.00</td>\n",
       "      <td>76.0</td>\n",
       "      <td>91.0</td>\n",
       "      <td>3.0</td>\n",
       "    </tr>\n",
       "    <tr>\n",
       "      <th>840025</th>\n",
       "      <td>201.0</td>\n",
       "      <td>-84.439552</td>\n",
       "      <td>33.864948</td>\n",
       "      <td>2.35</td>\n",
       "      <td>83.0</td>\n",
       "      <td>49.0</td>\n",
       "      <td>6.0</td>\n",
       "    </tr>\n",
       "    <tr>\n",
       "      <th>574363</th>\n",
       "      <td>201.0</td>\n",
       "      <td>-82.026619</td>\n",
       "      <td>33.434250</td>\n",
       "      <td>0.00</td>\n",
       "      <td>68.0</td>\n",
       "      <td>93.0</td>\n",
       "      <td>8.0</td>\n",
       "    </tr>\n",
       "    <tr>\n",
       "      <th>153078</th>\n",
       "      <td>201.0</td>\n",
       "      <td>-84.230499</td>\n",
       "      <td>33.506004</td>\n",
       "      <td>0.00</td>\n",
       "      <td>89.1</td>\n",
       "      <td>40.0</td>\n",
       "      <td>10.0</td>\n",
       "    </tr>\n",
       "    <tr>\n",
       "      <th>1323761</th>\n",
       "      <td>201.0</td>\n",
       "      <td>-84.495628</td>\n",
       "      <td>33.753635</td>\n",
       "      <td>0.00</td>\n",
       "      <td>54.0</td>\n",
       "      <td>80.0</td>\n",
       "      <td>10.0</td>\n",
       "    </tr>\n",
       "    <tr>\n",
       "      <th>2036173</th>\n",
       "      <td>241.0</td>\n",
       "      <td>-84.005554</td>\n",
       "      <td>33.653748</td>\n",
       "      <td>0.00</td>\n",
       "      <td>66.0</td>\n",
       "      <td>100.0</td>\n",
       "      <td>4.0</td>\n",
       "    </tr>\n",
       "    <tr>\n",
       "      <th>148262</th>\n",
       "      <td>201.0</td>\n",
       "      <td>-84.560516</td>\n",
       "      <td>33.773994</td>\n",
       "      <td>0.00</td>\n",
       "      <td>84.9</td>\n",
       "      <td>49.0</td>\n",
       "      <td>10.0</td>\n",
       "    </tr>\n",
       "  </tbody>\n",
       "</table>\n",
       "</div>"
      ],
      "text/plain": [
       "           TMC  Start_Lng  Start_Lat  Distance(mi)  Temperature(F)  \\\n",
       "154287   201.0 -84.462776  33.889336          0.00            73.0   \n",
       "144077   201.0 -84.378700  33.754379          0.01            30.0   \n",
       "1075349  201.0 -84.367554  33.820381          0.00            50.0   \n",
       "749764   201.0 -82.047447  33.260040          0.00            76.0   \n",
       "840025   201.0 -84.439552  33.864948          2.35            83.0   \n",
       "574363   201.0 -82.026619  33.434250          0.00            68.0   \n",
       "153078   201.0 -84.230499  33.506004          0.00            89.1   \n",
       "1323761  201.0 -84.495628  33.753635          0.00            54.0   \n",
       "2036173  241.0 -84.005554  33.653748          0.00            66.0   \n",
       "148262   201.0 -84.560516  33.773994          0.00            84.9   \n",
       "\n",
       "         Humidity(%)  Visibility(mi)  \n",
       "154287          87.0            10.0  \n",
       "144077          82.0            10.0  \n",
       "1075349         66.0            10.0  \n",
       "749764          91.0             3.0  \n",
       "840025          49.0             6.0  \n",
       "574363          93.0             8.0  \n",
       "153078          40.0            10.0  \n",
       "1323761         80.0            10.0  \n",
       "2036173        100.0             4.0  \n",
       "148262          49.0            10.0  "
      ]
     },
     "execution_count": 50,
     "metadata": {},
     "output_type": "execute_result"
    }
   ],
   "source": [
    "X_test.head(10)"
   ]
  },
  {
   "cell_type": "code",
   "execution_count": null,
   "metadata": {},
   "outputs": [],
   "source": []
  }
 ],
 "metadata": {
  "kernelspec": {
   "display_name": "Python 3",
   "language": "python",
   "name": "python3"
  },
  "language_info": {
   "codemirror_mode": {
    "name": "ipython",
    "version": 3
   },
   "file_extension": ".py",
   "mimetype": "text/x-python",
   "name": "python",
   "nbconvert_exporter": "python",
   "pygments_lexer": "ipython3",
   "version": "3.7.3"
  }
 },
 "nbformat": 4,
 "nbformat_minor": 4
}
